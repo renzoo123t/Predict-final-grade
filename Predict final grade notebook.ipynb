{
 "cells": [
  {
   "cell_type": "markdown",
   "metadata": {},
   "source": [
    "![.](.\\6-step-ml-framework.png)"
   ]
  },
  {
   "cell_type": "markdown",
   "metadata": {},
   "source": [
    "# 1. Problem definition\n",
    "\n",
    "Can we predict the math final grade, based on social, gender and study information about students ?"
   ]
  },
  {
   "cell_type": "markdown",
   "metadata": {},
   "source": [
    "# 2. Data\n",
    "\n",
    "Could you get the data from Kaggle. The data is about social, gender and study data from secondary school students. \n",
    "[Download the original dataset](https://www.kaggle.com/uciml/student-alcohol-consumption)"
   ]
  },
  {
   "cell_type": "markdown",
   "metadata": {},
   "source": [
    "# 3. Evaluation\n",
    "\n",
    "This is a regression problem, because we wanna predict a number, wich is a final grade (0 to 20). For the evaluation we gonna use r2 score, mean absolute error and root mean squared error metrics. The succesfull gonna be determinate for a least 85 percent in the r2 score and a +- 2 in the other metrics. "
   ]
  },
  {
   "cell_type": "markdown",
   "metadata": {},
   "source": [
    "# 4. Features\n",
    "\n",
    "Atributes for Math students:\n",
    "\n",
    "1. school - student's school (binary: 'GP' - Gabriel Pereira or 'MS' - Mousinho da Silveira)\n",
    "2. sex - student's sex (binary: 'F' - female or 'M' - male)\n",
    "3. age - student's age (numeric: from 15 to 22)\n",
    "4. address - student's home address type (binary: 'U' - urban or 'R' - rural)\n",
    "5. famsize - family size (binary: 'LE3' - less or equal to 3 or 'GT3' - greater than 3)\n",
    "6. Pstatus - parent's cohabitation status (binary: 'T' - living together or 'A' - apart)\n",
    "7. Medu - mother's education (numeric: 0 - none, 1 - primary education (4th grade), 2 – 5th to 9th grade, 3 – secondary education or 4 – higher education)\n",
    "8. Fedu - father's education (numeric: 0 - none, 1 - primary education (4th grade), 2 – 5th to 9th grade, 3 – secondary education or 4 – higher education)\n",
    "9. Mjob - mother's job (nominal: 'teacher', 'health' care related, civil 'services' (e.g. administrative or police), 'at_home' or 'other')\n",
    "10. Fjob - father's job (nominal: 'teacher', 'health' care related, civil 'services' (e.g. administrative or police), 'at_home' or 'other')\n",
    "11. reason - reason to choose this school (nominal: close to 'home', school 'reputation', 'course' preference or 'other')\n",
    "12. guardian - student's guardian (nominal: 'mother', 'father' or 'other')\n",
    "13. traveltime - home to school travel time (numeric: 1 - 1 hour)\n",
    "14. studytime - weekly study time (numeric: 1 - 10 hours)\n",
    "15. failures - number of past class failures (numeric: n if 1<=n<3, else 4)\n",
    "16. schoolsup - extra educational support (binary: yes or no)\n",
    "17. famsup - family educational support (binary: yes or no)\n",
    "18. paid - extra paid classes within the course subject (Math or Portuguese) (binary: yes or no)\n",
    "19. activities - extra-curricular activities (binary: yes or no)\n",
    "20. nursery - attended nursery school (binary: yes or no)\n",
    "21. higher - wants to take higher education (binary: yes or no)\n",
    "22. internet - Internet access at home (binary: yes or no)\n",
    "23. romantic - with a romantic relationship (binary: yes or no)\n",
    "24. famrel - quality of family relationships (numeric: from 1 - very bad to 5 - excellent)\n",
    "25. freetime - free time after school (numeric: from 1 - very low to 5 - very high)\n",
    "26. goout - going out with friends (numeric: from 1 - very low to 5 - very high)\n",
    "27. Dalc - workday alcohol consumption (numeric: from 1 - very low to 5 - very high)\n",
    "28. Walc - weekend alcohol consumption (numeric: from 1 - very low to 5 - very high)\n",
    "29. health - current health status (numeric: from 1 - very bad to 5 - very good)\n",
    "30. absences - number of school absences (numeric: from 0 to 93)\n",
    "\n",
    "These grades are related with the course subject, Math:\n",
    "\n",
    "31. G1 - first period grade (numeric: from 0 to 20)\n",
    "32. G2 - second period grade (numeric: from 0 to 20)\n",
    "33. G3 - final grade (numeric: from 0 to 20, output target)"
   ]
  },
  {
   "cell_type": "markdown",
   "metadata": {},
   "source": [
    "### EXPLORATORY DATA ANALYSIS"
   ]
  },
  {
   "cell_type": "code",
   "execution_count": 3,
   "metadata": {},
   "outputs": [],
   "source": [
    "#Let´s import the necessary libraries for EDA\n",
    "%matplotlib inline\n",
    "import pandas as pd \n",
    "import numpy as np\n",
    "import matplotlib.pyplot as plt\n",
    "import seaborn as sns"
   ]
  },
  {
   "cell_type": "code",
   "execution_count": 3,
   "metadata": {},
   "outputs": [
    {
     "data": {
      "text/plain": [
       "(395, 33)"
      ]
     },
     "execution_count": 3,
     "metadata": {},
     "output_type": "execute_result"
    }
   ],
   "source": [
    "#Store the data in our system for analysis\n",
    "df = pd.read_csv('.\\Data\\student-mat.csv')\n",
    "df.shape"
   ]
  },
  {
   "cell_type": "markdown",
   "metadata": {},
   "source": [
    "**The data looks like:**"
   ]
  },
  {
   "cell_type": "code",
   "execution_count": 6,
   "metadata": {},
   "outputs": [
    {
     "name": "stdout",
     "output_type": "stream",
     "text": [
      "<class 'pandas.core.frame.DataFrame'>\n",
      "RangeIndex: 395 entries, 0 to 394\n",
      "Data columns (total 33 columns):\n",
      " #   Column      Non-Null Count  Dtype \n",
      "---  ------      --------------  ----- \n",
      " 0   school      395 non-null    object\n",
      " 1   sex         395 non-null    object\n",
      " 2   age         395 non-null    int64 \n",
      " 3   address     395 non-null    object\n",
      " 4   famsize     395 non-null    object\n",
      " 5   Pstatus     395 non-null    object\n",
      " 6   Medu        395 non-null    int64 \n",
      " 7   Fedu        395 non-null    int64 \n",
      " 8   Mjob        395 non-null    object\n",
      " 9   Fjob        395 non-null    object\n",
      " 10  reason      395 non-null    object\n",
      " 11  guardian    395 non-null    object\n",
      " 12  traveltime  395 non-null    int64 \n",
      " 13  studytime   395 non-null    int64 \n",
      " 14  failures    395 non-null    int64 \n",
      " 15  schoolsup   395 non-null    object\n",
      " 16  famsup      395 non-null    object\n",
      " 17  paid        395 non-null    object\n",
      " 18  activities  395 non-null    object\n",
      " 19  nursery     395 non-null    object\n",
      " 20  higher      395 non-null    object\n",
      " 21  internet    395 non-null    object\n",
      " 22  romantic    395 non-null    object\n",
      " 23  famrel      395 non-null    int64 \n",
      " 24  freetime    395 non-null    int64 \n",
      " 25  goout       395 non-null    int64 \n",
      " 26  Dalc        395 non-null    int64 \n",
      " 27  Walc        395 non-null    int64 \n",
      " 28  health      395 non-null    int64 \n",
      " 29  absences    395 non-null    int64 \n",
      " 30  G1          395 non-null    int64 \n",
      " 31  G2          395 non-null    int64 \n",
      " 32  G3          395 non-null    int64 \n",
      "dtypes: int64(16), object(17)\n",
      "memory usage: 102.0+ KB\n"
     ]
    }
   ],
   "source": [
    "df.info()"
   ]
  },
  {
   "cell_type": "code",
   "execution_count": 7,
   "metadata": {},
   "outputs": [
    {
     "data": {
      "text/html": [
       "<div>\n",
       "<style scoped>\n",
       "    .dataframe tbody tr th:only-of-type {\n",
       "        vertical-align: middle;\n",
       "    }\n",
       "\n",
       "    .dataframe tbody tr th {\n",
       "        vertical-align: top;\n",
       "    }\n",
       "\n",
       "    .dataframe thead th {\n",
       "        text-align: right;\n",
       "    }\n",
       "</style>\n",
       "<table border=\"1\" class=\"dataframe\">\n",
       "  <thead>\n",
       "    <tr style=\"text-align: right;\">\n",
       "      <th></th>\n",
       "      <th>school</th>\n",
       "      <th>sex</th>\n",
       "      <th>age</th>\n",
       "      <th>address</th>\n",
       "      <th>famsize</th>\n",
       "      <th>Pstatus</th>\n",
       "      <th>Medu</th>\n",
       "      <th>Fedu</th>\n",
       "      <th>Mjob</th>\n",
       "      <th>Fjob</th>\n",
       "      <th>...</th>\n",
       "      <th>famrel</th>\n",
       "      <th>freetime</th>\n",
       "      <th>goout</th>\n",
       "      <th>Dalc</th>\n",
       "      <th>Walc</th>\n",
       "      <th>health</th>\n",
       "      <th>absences</th>\n",
       "      <th>G1</th>\n",
       "      <th>G2</th>\n",
       "      <th>G3</th>\n",
       "    </tr>\n",
       "  </thead>\n",
       "  <tbody>\n",
       "    <tr>\n",
       "      <th>0</th>\n",
       "      <td>GP</td>\n",
       "      <td>F</td>\n",
       "      <td>18</td>\n",
       "      <td>U</td>\n",
       "      <td>GT3</td>\n",
       "      <td>A</td>\n",
       "      <td>4</td>\n",
       "      <td>4</td>\n",
       "      <td>at_home</td>\n",
       "      <td>teacher</td>\n",
       "      <td>...</td>\n",
       "      <td>4</td>\n",
       "      <td>3</td>\n",
       "      <td>4</td>\n",
       "      <td>1</td>\n",
       "      <td>1</td>\n",
       "      <td>3</td>\n",
       "      <td>6</td>\n",
       "      <td>5</td>\n",
       "      <td>6</td>\n",
       "      <td>6</td>\n",
       "    </tr>\n",
       "    <tr>\n",
       "      <th>1</th>\n",
       "      <td>GP</td>\n",
       "      <td>F</td>\n",
       "      <td>17</td>\n",
       "      <td>U</td>\n",
       "      <td>GT3</td>\n",
       "      <td>T</td>\n",
       "      <td>1</td>\n",
       "      <td>1</td>\n",
       "      <td>at_home</td>\n",
       "      <td>other</td>\n",
       "      <td>...</td>\n",
       "      <td>5</td>\n",
       "      <td>3</td>\n",
       "      <td>3</td>\n",
       "      <td>1</td>\n",
       "      <td>1</td>\n",
       "      <td>3</td>\n",
       "      <td>4</td>\n",
       "      <td>5</td>\n",
       "      <td>5</td>\n",
       "      <td>6</td>\n",
       "    </tr>\n",
       "    <tr>\n",
       "      <th>2</th>\n",
       "      <td>GP</td>\n",
       "      <td>F</td>\n",
       "      <td>15</td>\n",
       "      <td>U</td>\n",
       "      <td>LE3</td>\n",
       "      <td>T</td>\n",
       "      <td>1</td>\n",
       "      <td>1</td>\n",
       "      <td>at_home</td>\n",
       "      <td>other</td>\n",
       "      <td>...</td>\n",
       "      <td>4</td>\n",
       "      <td>3</td>\n",
       "      <td>2</td>\n",
       "      <td>2</td>\n",
       "      <td>3</td>\n",
       "      <td>3</td>\n",
       "      <td>10</td>\n",
       "      <td>7</td>\n",
       "      <td>8</td>\n",
       "      <td>10</td>\n",
       "    </tr>\n",
       "    <tr>\n",
       "      <th>3</th>\n",
       "      <td>GP</td>\n",
       "      <td>F</td>\n",
       "      <td>15</td>\n",
       "      <td>U</td>\n",
       "      <td>GT3</td>\n",
       "      <td>T</td>\n",
       "      <td>4</td>\n",
       "      <td>2</td>\n",
       "      <td>health</td>\n",
       "      <td>services</td>\n",
       "      <td>...</td>\n",
       "      <td>3</td>\n",
       "      <td>2</td>\n",
       "      <td>2</td>\n",
       "      <td>1</td>\n",
       "      <td>1</td>\n",
       "      <td>5</td>\n",
       "      <td>2</td>\n",
       "      <td>15</td>\n",
       "      <td>14</td>\n",
       "      <td>15</td>\n",
       "    </tr>\n",
       "    <tr>\n",
       "      <th>4</th>\n",
       "      <td>GP</td>\n",
       "      <td>F</td>\n",
       "      <td>16</td>\n",
       "      <td>U</td>\n",
       "      <td>GT3</td>\n",
       "      <td>T</td>\n",
       "      <td>3</td>\n",
       "      <td>3</td>\n",
       "      <td>other</td>\n",
       "      <td>other</td>\n",
       "      <td>...</td>\n",
       "      <td>4</td>\n",
       "      <td>3</td>\n",
       "      <td>2</td>\n",
       "      <td>1</td>\n",
       "      <td>2</td>\n",
       "      <td>5</td>\n",
       "      <td>4</td>\n",
       "      <td>6</td>\n",
       "      <td>10</td>\n",
       "      <td>10</td>\n",
       "    </tr>\n",
       "  </tbody>\n",
       "</table>\n",
       "<p>5 rows × 33 columns</p>\n",
       "</div>"
      ],
      "text/plain": [
       "  school sex  age address famsize Pstatus  Medu  Fedu     Mjob      Fjob  ...  \\\n",
       "0     GP   F   18       U     GT3       A     4     4  at_home   teacher  ...   \n",
       "1     GP   F   17       U     GT3       T     1     1  at_home     other  ...   \n",
       "2     GP   F   15       U     LE3       T     1     1  at_home     other  ...   \n",
       "3     GP   F   15       U     GT3       T     4     2   health  services  ...   \n",
       "4     GP   F   16       U     GT3       T     3     3    other     other  ...   \n",
       "\n",
       "  famrel freetime  goout  Dalc  Walc health absences  G1  G2  G3  \n",
       "0      4        3      4     1     1      3        6   5   6   6  \n",
       "1      5        3      3     1     1      3        4   5   5   6  \n",
       "2      4        3      2     2     3      3       10   7   8  10  \n",
       "3      3        2      2     1     1      5        2  15  14  15  \n",
       "4      4        3      2     1     2      5        4   6  10  10  \n",
       "\n",
       "[5 rows x 33 columns]"
      ]
     },
     "execution_count": 7,
     "metadata": {},
     "output_type": "execute_result"
    }
   ],
   "source": [
    "df.head()"
   ]
  },
  {
   "cell_type": "code",
   "execution_count": 8,
   "metadata": {},
   "outputs": [
    {
     "data": {
      "text/html": [
       "<div>\n",
       "<style scoped>\n",
       "    .dataframe tbody tr th:only-of-type {\n",
       "        vertical-align: middle;\n",
       "    }\n",
       "\n",
       "    .dataframe tbody tr th {\n",
       "        vertical-align: top;\n",
       "    }\n",
       "\n",
       "    .dataframe thead th {\n",
       "        text-align: right;\n",
       "    }\n",
       "</style>\n",
       "<table border=\"1\" class=\"dataframe\">\n",
       "  <thead>\n",
       "    <tr style=\"text-align: right;\">\n",
       "      <th></th>\n",
       "      <th>school</th>\n",
       "      <th>sex</th>\n",
       "      <th>age</th>\n",
       "      <th>address</th>\n",
       "      <th>famsize</th>\n",
       "      <th>Pstatus</th>\n",
       "      <th>Medu</th>\n",
       "      <th>Fedu</th>\n",
       "      <th>Mjob</th>\n",
       "      <th>Fjob</th>\n",
       "      <th>...</th>\n",
       "      <th>famrel</th>\n",
       "      <th>freetime</th>\n",
       "      <th>goout</th>\n",
       "      <th>Dalc</th>\n",
       "      <th>Walc</th>\n",
       "      <th>health</th>\n",
       "      <th>absences</th>\n",
       "      <th>G1</th>\n",
       "      <th>G2</th>\n",
       "      <th>G3</th>\n",
       "    </tr>\n",
       "  </thead>\n",
       "  <tbody>\n",
       "    <tr>\n",
       "      <th>390</th>\n",
       "      <td>MS</td>\n",
       "      <td>M</td>\n",
       "      <td>20</td>\n",
       "      <td>U</td>\n",
       "      <td>LE3</td>\n",
       "      <td>A</td>\n",
       "      <td>2</td>\n",
       "      <td>2</td>\n",
       "      <td>services</td>\n",
       "      <td>services</td>\n",
       "      <td>...</td>\n",
       "      <td>5</td>\n",
       "      <td>5</td>\n",
       "      <td>4</td>\n",
       "      <td>4</td>\n",
       "      <td>5</td>\n",
       "      <td>4</td>\n",
       "      <td>11</td>\n",
       "      <td>9</td>\n",
       "      <td>9</td>\n",
       "      <td>9</td>\n",
       "    </tr>\n",
       "    <tr>\n",
       "      <th>391</th>\n",
       "      <td>MS</td>\n",
       "      <td>M</td>\n",
       "      <td>17</td>\n",
       "      <td>U</td>\n",
       "      <td>LE3</td>\n",
       "      <td>T</td>\n",
       "      <td>3</td>\n",
       "      <td>1</td>\n",
       "      <td>services</td>\n",
       "      <td>services</td>\n",
       "      <td>...</td>\n",
       "      <td>2</td>\n",
       "      <td>4</td>\n",
       "      <td>5</td>\n",
       "      <td>3</td>\n",
       "      <td>4</td>\n",
       "      <td>2</td>\n",
       "      <td>3</td>\n",
       "      <td>14</td>\n",
       "      <td>16</td>\n",
       "      <td>16</td>\n",
       "    </tr>\n",
       "    <tr>\n",
       "      <th>392</th>\n",
       "      <td>MS</td>\n",
       "      <td>M</td>\n",
       "      <td>21</td>\n",
       "      <td>R</td>\n",
       "      <td>GT3</td>\n",
       "      <td>T</td>\n",
       "      <td>1</td>\n",
       "      <td>1</td>\n",
       "      <td>other</td>\n",
       "      <td>other</td>\n",
       "      <td>...</td>\n",
       "      <td>5</td>\n",
       "      <td>5</td>\n",
       "      <td>3</td>\n",
       "      <td>3</td>\n",
       "      <td>3</td>\n",
       "      <td>3</td>\n",
       "      <td>3</td>\n",
       "      <td>10</td>\n",
       "      <td>8</td>\n",
       "      <td>7</td>\n",
       "    </tr>\n",
       "    <tr>\n",
       "      <th>393</th>\n",
       "      <td>MS</td>\n",
       "      <td>M</td>\n",
       "      <td>18</td>\n",
       "      <td>R</td>\n",
       "      <td>LE3</td>\n",
       "      <td>T</td>\n",
       "      <td>3</td>\n",
       "      <td>2</td>\n",
       "      <td>services</td>\n",
       "      <td>other</td>\n",
       "      <td>...</td>\n",
       "      <td>4</td>\n",
       "      <td>4</td>\n",
       "      <td>1</td>\n",
       "      <td>3</td>\n",
       "      <td>4</td>\n",
       "      <td>5</td>\n",
       "      <td>0</td>\n",
       "      <td>11</td>\n",
       "      <td>12</td>\n",
       "      <td>10</td>\n",
       "    </tr>\n",
       "    <tr>\n",
       "      <th>394</th>\n",
       "      <td>MS</td>\n",
       "      <td>M</td>\n",
       "      <td>19</td>\n",
       "      <td>U</td>\n",
       "      <td>LE3</td>\n",
       "      <td>T</td>\n",
       "      <td>1</td>\n",
       "      <td>1</td>\n",
       "      <td>other</td>\n",
       "      <td>at_home</td>\n",
       "      <td>...</td>\n",
       "      <td>3</td>\n",
       "      <td>2</td>\n",
       "      <td>3</td>\n",
       "      <td>3</td>\n",
       "      <td>3</td>\n",
       "      <td>5</td>\n",
       "      <td>5</td>\n",
       "      <td>8</td>\n",
       "      <td>9</td>\n",
       "      <td>9</td>\n",
       "    </tr>\n",
       "  </tbody>\n",
       "</table>\n",
       "<p>5 rows × 33 columns</p>\n",
       "</div>"
      ],
      "text/plain": [
       "    school sex  age address famsize Pstatus  Medu  Fedu      Mjob      Fjob  \\\n",
       "390     MS   M   20       U     LE3       A     2     2  services  services   \n",
       "391     MS   M   17       U     LE3       T     3     1  services  services   \n",
       "392     MS   M   21       R     GT3       T     1     1     other     other   \n",
       "393     MS   M   18       R     LE3       T     3     2  services     other   \n",
       "394     MS   M   19       U     LE3       T     1     1     other   at_home   \n",
       "\n",
       "     ... famrel freetime  goout  Dalc  Walc health absences  G1  G2  G3  \n",
       "390  ...      5        5      4     4     5      4       11   9   9   9  \n",
       "391  ...      2        4      5     3     4      2        3  14  16  16  \n",
       "392  ...      5        5      3     3     3      3        3  10   8   7  \n",
       "393  ...      4        4      1     3     4      5        0  11  12  10  \n",
       "394  ...      3        2      3     3     3      5        5   8   9   9  \n",
       "\n",
       "[5 rows x 33 columns]"
      ]
     },
     "execution_count": 8,
     "metadata": {},
     "output_type": "execute_result"
    }
   ],
   "source": [
    "df.tail()"
   ]
  },
  {
   "cell_type": "markdown",
   "metadata": {},
   "source": [
    "**Missing values**"
   ]
  },
  {
   "cell_type": "code",
   "execution_count": 10,
   "metadata": {},
   "outputs": [
    {
     "data": {
      "text/plain": [
       "school        0\n",
       "sex           0\n",
       "age           0\n",
       "address       0\n",
       "famsize       0\n",
       "Pstatus       0\n",
       "Medu          0\n",
       "Fedu          0\n",
       "Mjob          0\n",
       "Fjob          0\n",
       "reason        0\n",
       "guardian      0\n",
       "traveltime    0\n",
       "studytime     0\n",
       "failures      0\n",
       "schoolsup     0\n",
       "famsup        0\n",
       "paid          0\n",
       "activities    0\n",
       "nursery       0\n",
       "higher        0\n",
       "internet      0\n",
       "romantic      0\n",
       "famrel        0\n",
       "freetime      0\n",
       "goout         0\n",
       "Dalc          0\n",
       "Walc          0\n",
       "health        0\n",
       "absences      0\n",
       "G1            0\n",
       "G2            0\n",
       "G3            0\n",
       "dtype: int64"
      ]
     },
     "execution_count": 10,
     "metadata": {},
     "output_type": "execute_result"
    }
   ],
   "source": [
    "df.isna().sum()"
   ]
  },
  {
   "cell_type": "markdown",
   "metadata": {},
   "source": [
    "No missing values in the df"
   ]
  },
  {
   "cell_type": "markdown",
   "metadata": {},
   "source": [
    "**How look the target?**"
   ]
  },
  {
   "cell_type": "code",
   "execution_count": 18,
   "metadata": {},
   "outputs": [
    {
     "data": {
      "image/png": "[encoded data removed]",
      "text/plain": [
       "<Figure size 432x288 with 1 Axes>"
      ]
     },
     "metadata": {
      "needs_background": "light"
     },
     "output_type": "display_data"
    }
   ],
   "source": [
    "df.G3.plot.hist()\n",
    "plt.xlabel('Final grade');"
   ]
  },
  {
   "cell_type": "code",
   "execution_count": 14,
   "metadata": {},
   "outputs": [
    {
     "data": {
      "text/plain": [
       "10    56\n",
       "11    47\n",
       "0     38\n",
       "15    33\n",
       "8     32\n",
       "13    31\n",
       "12    31\n",
       "9     28\n",
       "14    27\n",
       "16    16\n",
       "6     15\n",
       "18    12\n",
       "7      9\n",
       "5      7\n",
       "17     6\n",
       "19     5\n",
       "4      1\n",
       "20     1\n",
       "Name: G3, dtype: int64"
      ]
     },
     "execution_count": 14,
     "metadata": {},
     "output_type": "execute_result"
    }
   ],
   "source": [
    "df.G3.value_counts()"
   ]
  },
  {
   "cell_type": "markdown",
   "metadata": {},
   "source": [
    "The final grade wants to follow a normal distribution"
   ]
  },
  {
   "cell_type": "code",
   "execution_count": 33,
   "metadata": {},
   "outputs": [],
   "source": [
    "def plot_bar(features_list):\n",
    "    for column in features_list:\n",
    "        fig, ax = plt.subplots()\n",
    "        ax = df[column].value_counts().plot.bar()\n",
    "        ax.set(title=f'{column}');"
   ]
  },
  {
   "cell_type": "code",
   "execution_count": 59,
   "metadata": {},
   "outputs": [],
   "source": [
    "#get all objects\n",
    "object_list = []\n",
    "for label, content in df.items():\n",
    "    if pd.api.types.is_string_dtype(content):\n",
    "        object_list.append(label)"
   ]
  },
  {
   "cell_type": "code",
   "execution_count": 34,
   "metadata": {},
   "outputs": [
    {
     "data": {
      "image/png": "[encoded data removed]",
      "text/plain": [
       "<Figure size 432x288 with 1 Axes>"
      ]
     },
     "metadata": {
      "needs_background": "light"
     },
     "output_type": "display_data"
    },
    {
     "data": {
      "image/png": "[encoded data removed]",
      "text/plain": [
       "<Figure size 432x288 with 1 Axes>"
      ]
     },
     "metadata": {
      "needs_background": "light"
     },
     "output_type": "display_data"
    },
    {
     "data": {
      "image/png": "[encoded data removed]",
      "text/plain": [
       "<Figure size 432x288 with 1 Axes>"
      ]
     },
     "metadata": {
      "needs_background": "light"
     },
     "output_type": "display_data"
    },
    {
     "data": {
      "image/png": "[encoded data removed]",
      "text/plain": [
       "<Figure size 432x288 with 1 Axes>"
      ]
     },
     "metadata": {
      "needs_background": "light"
     },
     "output_type": "display_data"
    },
    {
     "data": {
      "image/png": "[encoded data removed]",
      "text/plain": [
       "<Figure size 432x288 with 1 Axes>"
      ]
     },
     "metadata": {
      "needs_background": "light"
     },
     "output_type": "display_data"
    },
    {
     "data": {
      "image/png": "[encoded data removed]",
      "text/plain": [
       "<Figure size 432x288 with 1 Axes>"
      ]
     },
     "metadata": {
      "needs_background": "light"
     },
     "output_type": "display_data"
    },
    {
     "data": {
      "image/png": "[encoded data removed]",
      "text/plain": [
       "<Figure size 432x288 with 1 Axes>"
      ]
     },
     "metadata": {
      "needs_background": "light"
     },
     "output_type": "display_data"
    },
    {
     "data": {
      "image/png": "[encoded data removed]",
      "text/plain": [
       "<Figure size 432x288 with 1 Axes>"
      ]
     },
     "metadata": {
      "needs_background": "light"
     },
     "output_type": "display_data"
    },
    {
     "data": {
      "image/png": "[encoded data removed]",
      "text/plain": [
       "<Figure size 432x288 with 1 Axes>"
      ]
     },
     "metadata": {
      "needs_background": "light"
     },
     "output_type": "display_data"
    },
    {
     "data": {
      "image/png": "[encoded data removed]",
      "text/plain": [
       "<Figure size 432x288 with 1 Axes>"
      ]
     },
     "metadata": {
      "needs_background": "light"
     },
     "output_type": "display_data"
    },
    {
     "data": {
      "image/png": "[encoded data removed]",
      "text/plain": [
       "<Figure size 432x288 with 1 Axes>"
      ]
     },
     "metadata": {
      "needs_background": "light"
     },
     "output_type": "display_data"
    },
    {
     "data": {
      "image/png": "[encoded data removed]",
      "text/plain": [
       "<Figure size 432x288 with 1 Axes>"
      ]
     },
     "metadata": {
      "needs_background": "light"
     },
     "output_type": "display_data"
    },
    {
     "data": {
      "image/png": "[encoded data removed]",
      "text/plain": [
       "<Figure size 432x288 with 1 Axes>"
      ]
     },
     "metadata": {
      "needs_background": "light"
     },
     "output_type": "display_data"
    },
    {
     "data": {
      "image/png": "[encoded data removed]",
      "text/plain": [
       "<Figure size 432x288 with 1 Axes>"
      ]
     },
     "metadata": {
      "needs_background": "light"
     },
     "output_type": "display_data"
    },
    {
     "data": {
      "image/png": "[encoded data removed]",
      "text/plain": [
       "<Figure size 432x288 with 1 Axes>"
      ]
     },
     "metadata": {
      "needs_background": "light"
     },
     "output_type": "display_data"
    },
    {
     "data": {
      "image/png": "[encoded data removed]",
      "text/plain": [
       "<Figure size 432x288 with 1 Axes>"
      ]
     },
     "metadata": {
      "needs_background": "light"
     },
     "output_type": "display_data"
    },
    {
     "data": {
      "image/png": "[encoded data removed]",
      "text/plain": [
       "<Figure size 432x288 with 1 Axes>"
      ]
     },
     "metadata": {
      "needs_background": "light"
     },
     "output_type": "display_data"
    }
   ],
   "source": [
    "plot_bar(object_list)"
   ]
  },
  {
   "cell_type": "markdown",
   "metadata": {},
   "source": [
    "Most of the student on the df studies in Gabriel Pereira school, live in a urban address, their families have more than 3 members. The mayor have ther fathers living together. \n",
    "\n",
    "**IF YOU WANT TO KNOW MORE ABOUT THE STUDENT REVIEW THE ABOVE AND NEXT CHARTS BOXES**"
   ]
  },
  {
   "cell_type": "code",
   "execution_count": 36,
   "metadata": {},
   "outputs": [],
   "source": [
    "def plot_hist(features_list):\n",
    "    for column in features_list:\n",
    "        fig, ax = plt.subplots()\n",
    "        ax = df[column].plot.hist()\n",
    "        ax.set(title=f'{column}');"
   ]
  },
  {
   "cell_type": "code",
   "execution_count": 56,
   "metadata": {},
   "outputs": [],
   "source": [
    "#get all numerics\n",
    "numeric_list = []\n",
    "for label, content in df.items():\n",
    "    if pd.api.types.is_numeric_dtype(content):\n",
    "        numeric_list.append(label)"
   ]
  },
  {
   "cell_type": "code",
   "execution_count": 57,
   "metadata": {},
   "outputs": [
    {
     "data": {
      "image/png": "[encoded data removed]",
      "text/plain": [
       "<Figure size 432x288 with 1 Axes>"
      ]
     },
     "metadata": {
      "needs_background": "light"
     },
     "output_type": "display_data"
    },
    {
     "data": {
      "image/png": "[encoded data removed]",
      "text/plain": [
       "<Figure size 432x288 with 1 Axes>"
      ]
     },
     "metadata": {
      "needs_background": "light"
     },
     "output_type": "display_data"
    },
    {
     "data": {
      "image/png": "[encoded data removed]",
      "text/plain": [
       "<Figure size 432x288 with 1 Axes>"
      ]
     },
     "metadata": {
      "needs_background": "light"
     },
     "output_type": "display_data"
    },
    {
     "data": {
      "image/png": "[encoded data removed]",
      "text/plain": [
       "<Figure size 432x288 with 1 Axes>"
      ]
     },
     "metadata": {
      "needs_background": "light"
     },
     "output_type": "display_data"
    },
    {
     "data": {
      "image/png": "[encoded data removed]",
      "text/plain": [
       "<Figure size 432x288 with 1 Axes>"
      ]
     },
     "metadata": {
      "needs_background": "light"
     },
     "output_type": "display_data"
    },
    {
     "data": {
      "image/png": "[encoded data removed]",
      "text/plain": [
       "<Figure size 432x288 with 1 Axes>"
      ]
     },
     "metadata": {
      "needs_background": "light"
     },
     "output_type": "display_data"
    },
    {
     "data": {
      "image/png": "[encoded data removed]",
      "text/plain": [
       "<Figure size 432x288 with 1 Axes>"
      ]
     },
     "metadata": {
      "needs_background": "light"
     },
     "output_type": "display_data"
    },
    {
     "data": {
      "image/png": "[encoded data removed]",
      "text/plain": [
       "<Figure size 432x288 with 1 Axes>"
      ]
     },
     "metadata": {
      "needs_background": "light"
     },
     "output_type": "display_data"
    },
    {
     "data": {
      "image/png": "[encoded data removed]",
      "text/plain": [
       "<Figure size 432x288 with 1 Axes>"
      ]
     },
     "metadata": {
      "needs_background": "light"
     },
     "output_type": "display_data"
    },
    {
     "data": {
      "image/png": "[encoded data removed]",
      "text/plain": [
       "<Figure size 432x288 with 1 Axes>"
      ]
     },
     "metadata": {
      "needs_background": "light"
     },
     "output_type": "display_data"
    },
    {
     "data": {
      "image/png": "[encoded data removed]",
      "text/plain": [
       "<Figure size 432x288 with 1 Axes>"
      ]
     },
     "metadata": {
      "needs_background": "light"
     },
     "output_type": "display_data"
    },
    {
     "data": {
      "image/png": "[encoded data removed]",
      "text/plain": [
       "<Figure size 432x288 with 1 Axes>"
      ]
     },
     "metadata": {
      "needs_background": "light"
     },
     "output_type": "display_data"
    },
    {
     "data": {
      "image/png": "[encoded data removed]",
      "text/plain": [
       "<Figure size 432x288 with 1 Axes>"
      ]
     },
     "metadata": {
      "needs_background": "light"
     },
     "output_type": "display_data"
    },
    {
     "data": {
      "image/png": "[encoded data removed]",
      "text/plain": [
       "<Figure size 432x288 with 1 Axes>"
      ]
     },
     "metadata": {
      "needs_background": "light"
     },
     "output_type": "display_data"
    },
    {
     "data": {
      "image/png": "[encoded data removed]",
      "text/plain": [
       "<Figure size 432x288 with 1 Axes>"
      ]
     },
     "metadata": {
      "needs_background": "light"
     },
     "output_type": "display_data"
    },
    {
     "data": {
      "image/png": "[encoded data removed]",
      "text/plain": [
       "<Figure size 432x288 with 1 Axes>"
      ]
     },
     "metadata": {
      "needs_background": "light"
     },
     "output_type": "display_data"
    }
   ],
   "source": [
    "plot_hist(numeric_list)"
   ]
  },
  {
   "cell_type": "markdown",
   "metadata": {},
   "source": [
    "# 5. Modelling"
   ]
  },
  {
   "cell_type": "markdown",
   "metadata": {},
   "source": [
    "**Getting the data ready**"
   ]
  },
  {
   "cell_type": "code",
   "execution_count": 60,
   "metadata": {},
   "outputs": [
    {
     "data": {
      "text/plain": [
       "17"
      ]
     },
     "execution_count": 60,
     "metadata": {},
     "output_type": "execute_result"
    }
   ],
   "source": [
    "#We have to convert the objects features to cat features\n",
    "len(object_list)"
   ]
  },
  {
   "cell_type": "code",
   "execution_count": 62,
   "metadata": {},
   "outputs": [],
   "source": [
    "for label in object_list:\n",
    "    df[label] = df[label].astype('category').cat.as_ordered()"
   ]
  },
  {
   "cell_type": "code",
   "execution_count": 64,
   "metadata": {},
   "outputs": [
    {
     "name": "stdout",
     "output_type": "stream",
     "text": [
      "<class 'pandas.core.frame.DataFrame'>\n",
      "RangeIndex: 395 entries, 0 to 394\n",
      "Data columns (total 33 columns):\n",
      " #   Column      Non-Null Count  Dtype   \n",
      "---  ------      --------------  -----   \n",
      " 0   school      395 non-null    category\n",
      " 1   sex         395 non-null    category\n",
      " 2   age         395 non-null    int64   \n",
      " 3   address     395 non-null    category\n",
      " 4   famsize     395 non-null    category\n",
      " 5   Pstatus     395 non-null    category\n",
      " 6   Medu        395 non-null    int64   \n",
      " 7   Fedu        395 non-null    int64   \n",
      " 8   Mjob        395 non-null    category\n",
      " 9   Fjob        395 non-null    category\n",
      " 10  reason      395 non-null    category\n",
      " 11  guardian    395 non-null    category\n",
      " 12  traveltime  395 non-null    int64   \n",
      " 13  studytime   395 non-null    int64   \n",
      " 14  failures    395 non-null    int64   \n",
      " 15  schoolsup   395 non-null    category\n",
      " 16  famsup      395 non-null    category\n",
      " 17  paid        395 non-null    category\n",
      " 18  activities  395 non-null    category\n",
      " 19  nursery     395 non-null    category\n",
      " 20  higher      395 non-null    category\n",
      " 21  internet    395 non-null    category\n",
      " 22  romantic    395 non-null    category\n",
      " 23  famrel      395 non-null    int64   \n",
      " 24  freetime    395 non-null    int64   \n",
      " 25  goout       395 non-null    int64   \n",
      " 26  Dalc        395 non-null    int64   \n",
      " 27  Walc        395 non-null    int64   \n",
      " 28  health      395 non-null    int64   \n",
      " 29  absences    395 non-null    int64   \n",
      " 30  G1          395 non-null    int64   \n",
      " 31  G2          395 non-null    int64   \n",
      " 32  G3          395 non-null    int64   \n",
      "dtypes: category(17), int64(16)\n",
      "memory usage: 58.0 KB\n"
     ]
    }
   ],
   "source": [
    "df.info()"
   ]
  },
  {
   "cell_type": "code",
   "execution_count": 115,
   "metadata": {},
   "outputs": [],
   "source": [
    "#convert all categorical variables into numbers \n",
    "for label, content in df.items():\n",
    "    if not pd.api.types.is_numeric_dtype(content):\n",
    "        df[label] = pd.Categorical(content).codes"
   ]
  },
  {
   "cell_type": "code",
   "execution_count": 116,
   "metadata": {},
   "outputs": [],
   "source": [
    "#save the preprocessing df\n",
    "df.to_csv('.\\Data\\df.preprocessing.csv', index=False)"
   ]
  },
  {
   "cell_type": "code",
   "execution_count": 5,
   "metadata": {},
   "outputs": [
    {
     "data": {
      "text/plain": [
       "(395, 33)"
      ]
     },
     "execution_count": 5,
     "metadata": {},
     "output_type": "execute_result"
    }
   ],
   "source": [
    "df_2 = pd.read_csv('.\\Data\\df.preprocessing.csv')\n",
    "df_2.shape"
   ]
  },
  {
   "cell_type": "code",
   "execution_count": 118,
   "metadata": {},
   "outputs": [
    {
     "data": {
      "text/html": [
       "<div>\n",
       "<style scoped>\n",
       "    .dataframe tbody tr th:only-of-type {\n",
       "        vertical-align: middle;\n",
       "    }\n",
       "\n",
       "    .dataframe tbody tr th {\n",
       "        vertical-align: top;\n",
       "    }\n",
       "\n",
       "    .dataframe thead th {\n",
       "        text-align: right;\n",
       "    }\n",
       "</style>\n",
       "<table border=\"1\" class=\"dataframe\">\n",
       "  <thead>\n",
       "    <tr style=\"text-align: right;\">\n",
       "      <th></th>\n",
       "      <th>school</th>\n",
       "      <th>sex</th>\n",
       "      <th>age</th>\n",
       "      <th>address</th>\n",
       "      <th>famsize</th>\n",
       "      <th>Pstatus</th>\n",
       "      <th>Medu</th>\n",
       "      <th>Fedu</th>\n",
       "      <th>Mjob</th>\n",
       "      <th>Fjob</th>\n",
       "      <th>...</th>\n",
       "      <th>famrel</th>\n",
       "      <th>freetime</th>\n",
       "      <th>goout</th>\n",
       "      <th>Dalc</th>\n",
       "      <th>Walc</th>\n",
       "      <th>health</th>\n",
       "      <th>absences</th>\n",
       "      <th>G1</th>\n",
       "      <th>G2</th>\n",
       "      <th>G3</th>\n",
       "    </tr>\n",
       "  </thead>\n",
       "  <tbody>\n",
       "    <tr>\n",
       "      <th>0</th>\n",
       "      <td>0</td>\n",
       "      <td>0</td>\n",
       "      <td>18</td>\n",
       "      <td>1</td>\n",
       "      <td>0</td>\n",
       "      <td>0</td>\n",
       "      <td>4</td>\n",
       "      <td>4</td>\n",
       "      <td>0</td>\n",
       "      <td>4</td>\n",
       "      <td>...</td>\n",
       "      <td>4</td>\n",
       "      <td>3</td>\n",
       "      <td>4</td>\n",
       "      <td>1</td>\n",
       "      <td>1</td>\n",
       "      <td>3</td>\n",
       "      <td>6</td>\n",
       "      <td>5</td>\n",
       "      <td>6</td>\n",
       "      <td>6</td>\n",
       "    </tr>\n",
       "    <tr>\n",
       "      <th>1</th>\n",
       "      <td>0</td>\n",
       "      <td>0</td>\n",
       "      <td>17</td>\n",
       "      <td>1</td>\n",
       "      <td>0</td>\n",
       "      <td>1</td>\n",
       "      <td>1</td>\n",
       "      <td>1</td>\n",
       "      <td>0</td>\n",
       "      <td>2</td>\n",
       "      <td>...</td>\n",
       "      <td>5</td>\n",
       "      <td>3</td>\n",
       "      <td>3</td>\n",
       "      <td>1</td>\n",
       "      <td>1</td>\n",
       "      <td>3</td>\n",
       "      <td>4</td>\n",
       "      <td>5</td>\n",
       "      <td>5</td>\n",
       "      <td>6</td>\n",
       "    </tr>\n",
       "    <tr>\n",
       "      <th>2</th>\n",
       "      <td>0</td>\n",
       "      <td>0</td>\n",
       "      <td>15</td>\n",
       "      <td>1</td>\n",
       "      <td>1</td>\n",
       "      <td>1</td>\n",
       "      <td>1</td>\n",
       "      <td>1</td>\n",
       "      <td>0</td>\n",
       "      <td>2</td>\n",
       "      <td>...</td>\n",
       "      <td>4</td>\n",
       "      <td>3</td>\n",
       "      <td>2</td>\n",
       "      <td>2</td>\n",
       "      <td>3</td>\n",
       "      <td>3</td>\n",
       "      <td>10</td>\n",
       "      <td>7</td>\n",
       "      <td>8</td>\n",
       "      <td>10</td>\n",
       "    </tr>\n",
       "    <tr>\n",
       "      <th>3</th>\n",
       "      <td>0</td>\n",
       "      <td>0</td>\n",
       "      <td>15</td>\n",
       "      <td>1</td>\n",
       "      <td>0</td>\n",
       "      <td>1</td>\n",
       "      <td>4</td>\n",
       "      <td>2</td>\n",
       "      <td>1</td>\n",
       "      <td>3</td>\n",
       "      <td>...</td>\n",
       "      <td>3</td>\n",
       "      <td>2</td>\n",
       "      <td>2</td>\n",
       "      <td>1</td>\n",
       "      <td>1</td>\n",
       "      <td>5</td>\n",
       "      <td>2</td>\n",
       "      <td>15</td>\n",
       "      <td>14</td>\n",
       "      <td>15</td>\n",
       "    </tr>\n",
       "    <tr>\n",
       "      <th>4</th>\n",
       "      <td>0</td>\n",
       "      <td>0</td>\n",
       "      <td>16</td>\n",
       "      <td>1</td>\n",
       "      <td>0</td>\n",
       "      <td>1</td>\n",
       "      <td>3</td>\n",
       "      <td>3</td>\n",
       "      <td>2</td>\n",
       "      <td>2</td>\n",
       "      <td>...</td>\n",
       "      <td>4</td>\n",
       "      <td>3</td>\n",
       "      <td>2</td>\n",
       "      <td>1</td>\n",
       "      <td>2</td>\n",
       "      <td>5</td>\n",
       "      <td>4</td>\n",
       "      <td>6</td>\n",
       "      <td>10</td>\n",
       "      <td>10</td>\n",
       "    </tr>\n",
       "  </tbody>\n",
       "</table>\n",
       "<p>5 rows × 33 columns</p>\n",
       "</div>"
      ],
      "text/plain": [
       "   school  sex  age  address  famsize  Pstatus  Medu  Fedu  Mjob  Fjob  ...  \\\n",
       "0       0    0   18        1        0        0     4     4     0     4  ...   \n",
       "1       0    0   17        1        0        1     1     1     0     2  ...   \n",
       "2       0    0   15        1        1        1     1     1     0     2  ...   \n",
       "3       0    0   15        1        0        1     4     2     1     3  ...   \n",
       "4       0    0   16        1        0        1     3     3     2     2  ...   \n",
       "\n",
       "   famrel  freetime  goout  Dalc  Walc  health  absences  G1  G2  G3  \n",
       "0       4         3      4     1     1       3         6   5   6   6  \n",
       "1       5         3      3     1     1       3         4   5   5   6  \n",
       "2       4         3      2     2     3       3        10   7   8  10  \n",
       "3       3         2      2     1     1       5         2  15  14  15  \n",
       "4       4         3      2     1     2       5         4   6  10  10  \n",
       "\n",
       "[5 rows x 33 columns]"
      ]
     },
     "execution_count": 118,
     "metadata": {},
     "output_type": "execute_result"
    }
   ],
   "source": [
    "df_2.head()"
   ]
  },
  {
   "cell_type": "code",
   "execution_count": 119,
   "metadata": {},
   "outputs": [],
   "source": [
    "df_2 = df.copy()"
   ]
  },
  {
   "cell_type": "code",
   "execution_count": 6,
   "metadata": {},
   "outputs": [],
   "source": [
    "#split data into x and y\n",
    "x = df_2.drop('G3', axis=1)\n",
    "y = df_2['G3']"
   ]
  },
  {
   "cell_type": "code",
   "execution_count": 121,
   "metadata": {},
   "outputs": [
    {
     "data": {
      "text/plain": [
       "((395, 32), (395,))"
      ]
     },
     "execution_count": 121,
     "metadata": {},
     "output_type": "execute_result"
    }
   ],
   "source": [
    "x.shape, y.shape"
   ]
  },
  {
   "cell_type": "code",
   "execution_count": 7,
   "metadata": {},
   "outputs": [
    {
     "data": {
      "text/plain": [
       "((316, 32), (79, 32), (316,), (79,))"
      ]
     },
     "execution_count": 7,
     "metadata": {},
     "output_type": "execute_result"
    }
   ],
   "source": [
    "#Split data into train and test\n",
    "\n",
    "#seed\n",
    "np.random.seed(5)\n",
    "\n",
    "#importing neccesary tools\n",
    "from sklearn.model_selection import train_test_split\n",
    "\n",
    "#Splitting\n",
    "x_train, x_test, y_train, y_test = train_test_split(x, y, test_size=0.2)\n",
    "\n",
    "#Check\n",
    "x_train.shape, x_test.shape, y_train.shape, y_test.shape"
   ]
  },
  {
   "cell_type": "markdown",
   "metadata": {},
   "source": [
    "**Choosing the rigth model for you data**"
   ]
  },
  {
   "cell_type": "markdown",
   "metadata": {},
   "source": [
    "We will be looking at following Algorithms\n",
    "\n",
    "Improved Linear regression models\n",
    "\n",
    "1. Ridge regression\n",
    "\n",
    "2. Lasso regression\n",
    "\n",
    "Support Vector Machine\n",
    "\n",
    "3. Support vector regression\n",
    "\n",
    "Nearest neighbour Regressor\n",
    "\n",
    "4. KNeighborsRegressor\n",
    "\n",
    "Ensmble models\n",
    "\n",
    "5. Random Forest Regressor\n",
    "\n",
    "6. Gradient Boosting Regressor\n",
    "\n",
    "7. ExtraTrees Regressor\n",
    "\n",
    "Neural Network\n",
    "\n",
    "8. Multi Layer Preceptron Regressor"
   ]
  },
  {
   "cell_type": "code",
   "execution_count": 8,
   "metadata": {},
   "outputs": [],
   "source": [
    "from sklearn.linear_model import Ridge, Lasso\n",
    "from sklearn.svm import SVR\n",
    "from sklearn.neighbors import KNeighborsRegressor\n",
    "from sklearn.ensemble import RandomForestRegressor, GradientBoostingRegressor, ExtraTreesRegressor\n",
    "from sklearn.neural_network import MLPRegressor"
   ]
  },
  {
   "cell_type": "code",
   "execution_count": 124,
   "metadata": {},
   "outputs": [],
   "source": [
    "models = [\n",
    "    ['Ridge: ', Ridge()],\n",
    "    ['Lasso: ', Lasso()],\n",
    "    ['SVR: ', SVR()],\n",
    "    ['KNeighborsRegressor: ', KNeighborsRegressor()],\n",
    "    ['RandoForestRegressor: ', RandomForestRegressor()],\n",
    "    ['GradientBoostingRegressor: ', GradientBoostingRegressor()],\n",
    "    ['ExtraTreesRegressor: ', ExtraTreesRegressor()],\n",
    "    ['MLPRegressor: ', MLPRegressor(activation='relu', solver='adam',learning_rate='adaptive',max_iter=1000,learning_rate_init=0.01,alpha=0.01)]\n",
    "]"
   ]
  },
  {
   "cell_type": "markdown",
   "metadata": {},
   "source": [
    "**Fitting the models to the data a get a previously score**"
   ]
  },
  {
   "cell_type": "code",
   "execution_count": 127,
   "metadata": {},
   "outputs": [],
   "source": [
    "#To get the fit time\n",
    "import time\n",
    "#Metrics\n",
    "from sklearn.metrics import r2_score, mean_absolute_error, mean_squared_error\n",
    "\n",
    "#Make a list to save the first pack of results\n",
    "first_score = []\n",
    "\n",
    "#For fit each model in the data\n",
    "for name, model in models:\n",
    "    model_pack = {}\n",
    "    model.random_state = 5\n",
    "    model_pack['Name'] = name\n",
    "    start = time.time()\n",
    "    model.fit(x_train, y_train)\n",
    "    end = time.time()\n",
    "    model_pack['Train time'] = end - start\n",
    "    model_pack['Train R2 score'] = r2_score(y_train, model.predict(x_train))\n",
    "    model_pack['Test R2 score'] = r2_score(y_test, model.predict(x_test))\n",
    "    model_pack['Test MAE'] = mean_absolute_error(y_test, model.predict(x_test))\n",
    "    model_pack['Test RMSE'] = np.sqrt(mean_squared_error(y_test, model.predict(x_test)))\n",
    "    first_score.append(model_pack)    "
   ]
  },
  {
   "cell_type": "code",
   "execution_count": 128,
   "metadata": {},
   "outputs": [
    {
     "data": {
      "text/plain": [
       "[{'Name': 'Ridge: ',\n",
       "  'Train time': 0.0039861202239990234,\n",
       "  'Train R2 score': 0.8719339367330323,\n",
       "  'Test R2 score': 0.7074190061880523,\n",
       "  'Test MAE': 1.5729615678177853,\n",
       "  'Test RMSE': 2.468943010040491},\n",
       " {'Name': 'Lasso: ',\n",
       "  'Train time': 0.32705235481262207,\n",
       "  'Train R2 score': 0.8448676558879741,\n",
       "  'Test R2 score': 0.7083242685273256,\n",
       "  'Test MAE': 1.3426916038915355,\n",
       "  'Test RMSE': 2.465120525518018},\n",
       " {'Name': 'SVR: ',\n",
       "  'Train time': 0.024976491928100586,\n",
       "  'Train R2 score': 0.8330386141097559,\n",
       "  'Test R2 score': 0.6983705540756471,\n",
       "  'Test MAE': 1.4486482410254122,\n",
       "  'Test RMSE': 2.5068299696383076},\n",
       " {'Name': 'KNeighborsRegressor: ',\n",
       "  'Train time': 0.011968612670898438,\n",
       "  'Train R2 score': 0.9067992038591037,\n",
       "  'Test R2 score': 0.7912872810053374,\n",
       "  'Test MAE': 1.4734177215189872,\n",
       "  'Test RMSE': 2.085270829024313},\n",
       " {'Name': 'RandoForestRegressor: ',\n",
       "  'Train time': 0.23755884170532227,\n",
       "  'Train R2 score': 0.9876065779133996,\n",
       "  'Test R2 score': 0.8361494578007475,\n",
       "  'Test MAE': 1.2660759493670883,\n",
       "  'Test RMSE': 1.8476170078224918},\n",
       " {'Name': 'GradientBoostingRegressor: ',\n",
       "  'Train time': 0.08128833770751953,\n",
       "  'Train R2 score': 0.9778072132019541,\n",
       "  'Test R2 score': 0.8418804082098945,\n",
       "  'Test MAE': 1.2679952688841034,\n",
       "  'Test RMSE': 1.8150176481199136},\n",
       " {'Name': 'ExtraTreesRegressor: ',\n",
       "  'Train time': 0.23134112358093262,\n",
       "  'Train R2 score': 1.0,\n",
       "  'Test R2 score': 0.7922110316398259,\n",
       "  'Test MAE': 1.3574683544303796,\n",
       "  'Test RMSE': 2.0806510665557294},\n",
       " {'Name': 'MLPRegressor: ',\n",
       "  'Train time': 0.5724680423736572,\n",
       "  'Train R2 score': 0.9497157629741776,\n",
       "  'Test R2 score': 0.7592993309665945,\n",
       "  'Test MAE': 1.4905768380696531,\n",
       "  'Test RMSE': 2.2393741397301814}]"
      ]
     },
     "execution_count": 128,
     "metadata": {},
     "output_type": "execute_result"
    }
   ],
   "source": [
    "first_score"
   ]
  },
  {
   "cell_type": "markdown",
   "metadata": {},
   "source": [
    "**Evaluating a ML-model**"
   ]
  },
  {
   "cell_type": "code",
   "execution_count": 130,
   "metadata": {},
   "outputs": [
    {
     "data": {
      "text/html": [
       "<div>\n",
       "<style scoped>\n",
       "    .dataframe tbody tr th:only-of-type {\n",
       "        vertical-align: middle;\n",
       "    }\n",
       "\n",
       "    .dataframe tbody tr th {\n",
       "        vertical-align: top;\n",
       "    }\n",
       "\n",
       "    .dataframe thead th {\n",
       "        text-align: right;\n",
       "    }\n",
       "</style>\n",
       "<table border=\"1\" class=\"dataframe\">\n",
       "  <thead>\n",
       "    <tr style=\"text-align: right;\">\n",
       "      <th></th>\n",
       "      <th>Name</th>\n",
       "      <th>Train time</th>\n",
       "      <th>Train R2 score</th>\n",
       "      <th>Test R2 score</th>\n",
       "      <th>Test MAE</th>\n",
       "      <th>Test RMSE</th>\n",
       "    </tr>\n",
       "  </thead>\n",
       "  <tbody>\n",
       "    <tr>\n",
       "      <th>0</th>\n",
       "      <td>Ridge:</td>\n",
       "      <td>0.003986</td>\n",
       "      <td>0.871934</td>\n",
       "      <td>0.707419</td>\n",
       "      <td>1.572962</td>\n",
       "      <td>2.468943</td>\n",
       "    </tr>\n",
       "    <tr>\n",
       "      <th>1</th>\n",
       "      <td>Lasso:</td>\n",
       "      <td>0.327052</td>\n",
       "      <td>0.844868</td>\n",
       "      <td>0.708324</td>\n",
       "      <td>1.342692</td>\n",
       "      <td>2.465121</td>\n",
       "    </tr>\n",
       "    <tr>\n",
       "      <th>2</th>\n",
       "      <td>SVR:</td>\n",
       "      <td>0.024976</td>\n",
       "      <td>0.833039</td>\n",
       "      <td>0.698371</td>\n",
       "      <td>1.448648</td>\n",
       "      <td>2.506830</td>\n",
       "    </tr>\n",
       "    <tr>\n",
       "      <th>3</th>\n",
       "      <td>KNeighborsRegressor:</td>\n",
       "      <td>0.011969</td>\n",
       "      <td>0.906799</td>\n",
       "      <td>0.791287</td>\n",
       "      <td>1.473418</td>\n",
       "      <td>2.085271</td>\n",
       "    </tr>\n",
       "    <tr>\n",
       "      <th>4</th>\n",
       "      <td>RandoForestRegressor:</td>\n",
       "      <td>0.237559</td>\n",
       "      <td>0.987607</td>\n",
       "      <td>0.836149</td>\n",
       "      <td>1.266076</td>\n",
       "      <td>1.847617</td>\n",
       "    </tr>\n",
       "    <tr>\n",
       "      <th>5</th>\n",
       "      <td>GradientBoostingRegressor:</td>\n",
       "      <td>0.081288</td>\n",
       "      <td>0.977807</td>\n",
       "      <td>0.841880</td>\n",
       "      <td>1.267995</td>\n",
       "      <td>1.815018</td>\n",
       "    </tr>\n",
       "    <tr>\n",
       "      <th>6</th>\n",
       "      <td>ExtraTreesRegressor:</td>\n",
       "      <td>0.231341</td>\n",
       "      <td>1.000000</td>\n",
       "      <td>0.792211</td>\n",
       "      <td>1.357468</td>\n",
       "      <td>2.080651</td>\n",
       "    </tr>\n",
       "    <tr>\n",
       "      <th>7</th>\n",
       "      <td>MLPRegressor:</td>\n",
       "      <td>0.572468</td>\n",
       "      <td>0.949716</td>\n",
       "      <td>0.759299</td>\n",
       "      <td>1.490577</td>\n",
       "      <td>2.239374</td>\n",
       "    </tr>\n",
       "  </tbody>\n",
       "</table>\n",
       "</div>"
      ],
      "text/plain": [
       "                          Name  Train time  Train R2 score  Test R2 score  \\\n",
       "0                      Ridge:     0.003986        0.871934       0.707419   \n",
       "1                      Lasso:     0.327052        0.844868       0.708324   \n",
       "2                        SVR:     0.024976        0.833039       0.698371   \n",
       "3        KNeighborsRegressor:     0.011969        0.906799       0.791287   \n",
       "4       RandoForestRegressor:     0.237559        0.987607       0.836149   \n",
       "5  GradientBoostingRegressor:     0.081288        0.977807       0.841880   \n",
       "6        ExtraTreesRegressor:     0.231341        1.000000       0.792211   \n",
       "7               MLPRegressor:     0.572468        0.949716       0.759299   \n",
       "\n",
       "   Test MAE  Test RMSE  \n",
       "0  1.572962   2.468943  \n",
       "1  1.342692   2.465121  \n",
       "2  1.448648   2.506830  \n",
       "3  1.473418   2.085271  \n",
       "4  1.266076   1.847617  \n",
       "5  1.267995   1.815018  \n",
       "6  1.357468   2.080651  \n",
       "7  1.490577   2.239374  "
      ]
     },
     "execution_count": 130,
     "metadata": {},
     "output_type": "execute_result"
    }
   ],
   "source": [
    "df_score_1 = pd.DataFrame(first_score)\n",
    "df_score_1"
   ]
  },
  {
   "cell_type": "code",
   "execution_count": 142,
   "metadata": {},
   "outputs": [
    {
     "data": {
      "image/png": "[encoded data removed]",
      "text/plain": [
       "<Figure size 720x576 with 1 Axes>"
      ]
     },
     "metadata": {
      "needs_background": "light"
     },
     "output_type": "display_data"
    }
   ],
   "source": [
    "fig, ax = plt.subplots(figsize= (10,8))\n",
    "df_score_1.plot.bar(x='Name', y=['Test R2 score', 'Test MAE', 'Test RMSE'], ax=ax)\n",
    "ax.set(title='First score', ylabel='Score')\n",
    "ax.axhline(df_score_1['Test R2 score'].max(), linestyle='--', c='red')\n",
    "ax.axhline(df_score_1['Test RMSE'].min(), linestyle='--', c='deepskyblue');"
   ]
  },
  {
   "cell_type": "markdown",
   "metadata": {},
   "source": [
    "* Best results over test set are given by RandoForestRegressor and GradientBoostingRegressor"
   ]
  },
  {
   "cell_type": "markdown",
   "metadata": {},
   "source": [
    "**Improving each models**"
   ]
  },
  {
   "cell_type": "code",
   "execution_count": 143,
   "metadata": {},
   "outputs": [],
   "source": [
    "#For improving our models\n",
    "from sklearn.model_selection import GridSearchCV\n",
    "\n",
    "#We just gonna improve the models who have a r2_score at least of 0.8"
   ]
  },
  {
   "cell_type": "code",
   "execution_count": 151,
   "metadata": {},
   "outputs": [],
   "source": [
    "#RandomForestRegresso parameters\n",
    "rfr_grid = {\n",
    "    'n_estimators': np.arange(10, 100, 10),\n",
    "    'max_depth': [None, 3, 5, 10],\n",
    "    'min_samples_split': np.arange(2, 20, 2),\n",
    "    'min_samples_leaf': np.arange(1, 20, 2),\n",
    "    'max_features': [0.5, 1, 'sqrt', 'auto'],\n",
    "}\n",
    "\n",
    "rfr_model = RandomForestRegressor(random_state= 5)\n",
    "\n",
    "#GradientBoostingRegressor parameters\n",
    "gbr_grid = {\n",
    "    'n_estimators': np.arange(10, 100, 10),\n",
    "    'min_samples_split': np.arange(2, 20, 2),\n",
    "    'min_samples_leaf': np.arange(1, 20, 2),\n",
    "    'max_features': [0.5, 1, 'sqrt', 'auto'],\n",
    "}\n",
    "\n",
    "gbr_model = GradientBoostingRegressor(random_state= 5)"
   ]
  },
  {
   "cell_type": "code",
   "execution_count": 152,
   "metadata": {},
   "outputs": [],
   "source": [
    "rfr_model_gs = GridSearchCV(estimator=rfr_model, \n",
    "                            param_grid=rfr_grid, \n",
    "                            cv=5,\n",
    "                            verbose=2,\n",
    "                            n_jobs=-1)\n",
    "\n",
    "gbr_model_gs = GridSearchCV(estimator=gbr_model, \n",
    "                            param_grid=gbr_grid, \n",
    "                            cv=5,\n",
    "                            verbose=2,\n",
    "                            n_jobs=-1)"
   ]
  },
  {
   "cell_type": "code",
   "execution_count": 153,
   "metadata": {},
   "outputs": [
    {
     "name": "stdout",
     "output_type": "stream",
     "text": [
      "Fitting 5 folds for each of 12960 candidates, totalling 64800 fits\n"
     ]
    },
    {
     "name": "stderr",
     "output_type": "stream",
     "text": [
      "[Parallel(n_jobs=-1)]: Using backend LokyBackend with 4 concurrent workers.\n",
      "[Parallel(n_jobs=-1)]: Done  33 tasks      | elapsed:   25.9s\n",
      "[Parallel(n_jobs=-1)]: Done 154 tasks      | elapsed:   31.4s\n",
      "[Parallel(n_jobs=-1)]: Done 357 tasks      | elapsed:   40.2s\n",
      "[Parallel(n_jobs=-1)]: Done 896 tasks      | elapsed:  1.1min\n",
      "[Parallel(n_jobs=-1)]: Done 1626 tasks      | elapsed:  1.6min\n",
      "[Parallel(n_jobs=-1)]: Done 2516 tasks      | elapsed:  2.3min\n",
      "[Parallel(n_jobs=-1)]: Done 3570 tasks      | elapsed:  3.1min\n",
      "[Parallel(n_jobs=-1)]: Done 4784 tasks      | elapsed:  4.0min\n",
      "[Parallel(n_jobs=-1)]: Done 6162 tasks      | elapsed:  5.1min\n",
      "[Parallel(n_jobs=-1)]: Done 7700 tasks      | elapsed:  6.0min\n",
      "[Parallel(n_jobs=-1)]: Done 9402 tasks      | elapsed:  7.0min\n",
      "[Parallel(n_jobs=-1)]: Done 11264 tasks      | elapsed:  8.1min\n",
      "[Parallel(n_jobs=-1)]: Done 13290 tasks      | elapsed:  9.4min\n",
      "[Parallel(n_jobs=-1)]: Done 15476 tasks      | elapsed: 10.8min\n",
      "[Parallel(n_jobs=-1)]: Done 17826 tasks      | elapsed: 12.3min\n",
      "[Parallel(n_jobs=-1)]: Done 20336 tasks      | elapsed: 13.8min\n",
      "[Parallel(n_jobs=-1)]: Done 23010 tasks      | elapsed: 15.4min\n",
      "[Parallel(n_jobs=-1)]: Done 25844 tasks      | elapsed: 17.0min\n",
      "[Parallel(n_jobs=-1)]: Done 28842 tasks      | elapsed: 18.7min\n",
      "[Parallel(n_jobs=-1)]: Done 32000 tasks      | elapsed: 20.7min\n",
      "[Parallel(n_jobs=-1)]: Done 35322 tasks      | elapsed: 22.7min\n",
      "[Parallel(n_jobs=-1)]: Done 38804 tasks      | elapsed: 24.7min\n",
      "[Parallel(n_jobs=-1)]: Done 42450 tasks      | elapsed: 26.8min\n",
      "[Parallel(n_jobs=-1)]: Done 46256 tasks      | elapsed: 29.2min\n",
      "[Parallel(n_jobs=-1)]: Done 50226 tasks      | elapsed: 31.7min\n",
      "[Parallel(n_jobs=-1)]: Done 54356 tasks      | elapsed: 34.1min\n",
      "[Parallel(n_jobs=-1)]: Done 58650 tasks      | elapsed: 36.6min\n",
      "[Parallel(n_jobs=-1)]: Done 63104 tasks      | elapsed: 39.5min\n",
      "[Parallel(n_jobs=-1)]: Done 64800 out of 64800 | elapsed: 40.6min finished\n"
     ]
    },
    {
     "data": {
      "text/plain": [
       "GridSearchCV(cv=5, estimator=RandomForestRegressor(random_state=5), n_jobs=-1,\n",
       "             param_grid={'max_depth': [None, 3, 5, 10],\n",
       "                         'max_features': [0.5, 1, 'sqrt', 'auto'],\n",
       "                         'min_samples_leaf': array([ 1,  3,  5,  7,  9, 11, 13, 15, 17, 19]),\n",
       "                         'min_samples_split': array([ 2,  4,  6,  8, 10, 12, 14, 16, 18]),\n",
       "                         'n_estimators': array([10, 20, 30, 40, 50, 60, 70, 80, 90])},\n",
       "             verbose=2)"
      ]
     },
     "execution_count": 153,
     "metadata": {},
     "output_type": "execute_result"
    }
   ],
   "source": [
    "#fit the data with RandomForestRegressor new parameters\n",
    "rfr_model_gs.fit(x_train, y_train)"
   ]
  },
  {
   "cell_type": "code",
   "execution_count": 154,
   "metadata": {},
   "outputs": [
    {
     "name": "stdout",
     "output_type": "stream",
     "text": [
      "Fitting 5 folds for each of 3240 candidates, totalling 16200 fits\n"
     ]
    },
    {
     "name": "stderr",
     "output_type": "stream",
     "text": [
      "[Parallel(n_jobs=-1)]: Using backend LokyBackend with 4 concurrent workers.\n",
      "[Parallel(n_jobs=-1)]: Done  92 tasks      | elapsed:    1.5s\n",
      "[Parallel(n_jobs=-1)]: Done 576 tasks      | elapsed:    8.6s\n",
      "[Parallel(n_jobs=-1)]: Done 1388 tasks      | elapsed:   18.3s\n",
      "[Parallel(n_jobs=-1)]: Done 2520 tasks      | elapsed:   32.9s\n",
      "[Parallel(n_jobs=-1)]: Done 3980 tasks      | elapsed:   50.9s\n",
      "[Parallel(n_jobs=-1)]: Done 5760 tasks      | elapsed:  1.1min\n",
      "[Parallel(n_jobs=-1)]: Done 7868 tasks      | elapsed:  1.4min\n",
      "[Parallel(n_jobs=-1)]: Done 10296 tasks      | elapsed:  1.8min\n",
      "[Parallel(n_jobs=-1)]: Done 13052 tasks      | elapsed:  2.3min\n",
      "[Parallel(n_jobs=-1)]: Done 16128 tasks      | elapsed:  3.1min\n",
      "[Parallel(n_jobs=-1)]: Done 16200 out of 16200 | elapsed:  3.1min finished\n"
     ]
    },
    {
     "data": {
      "text/plain": [
       "GridSearchCV(cv=5, estimator=GradientBoostingRegressor(random_state=5),\n",
       "             n_jobs=-1,\n",
       "             param_grid={'max_features': [0.5, 1, 'sqrt', 'auto'],\n",
       "                         'min_samples_leaf': array([ 1,  3,  5,  7,  9, 11, 13, 15, 17, 19]),\n",
       "                         'min_samples_split': array([ 2,  4,  6,  8, 10, 12, 14, 16, 18]),\n",
       "                         'n_estimators': array([10, 20, 30, 40, 50, 60, 70, 80, 90])},\n",
       "             verbose=2)"
      ]
     },
     "execution_count": 154,
     "metadata": {},
     "output_type": "execute_result"
    }
   ],
   "source": [
    "#fit the data with GradientBoostingRegressor new parameters\n",
    "gbr_model_gs.fit(x_train, y_train)"
   ]
  },
  {
   "cell_type": "code",
   "execution_count": 156,
   "metadata": {},
   "outputs": [
    {
     "data": {
      "text/plain": [
       "{'max_depth': 10,\n",
       " 'max_features': 0.5,\n",
       " 'min_samples_leaf': 1,\n",
       " 'min_samples_split': 6,\n",
       " 'n_estimators': 90}"
      ]
     },
     "execution_count": 156,
     "metadata": {},
     "output_type": "execute_result"
    }
   ],
   "source": [
    "rfr_model_gs.best_params_"
   ]
  },
  {
   "cell_type": "code",
   "execution_count": 157,
   "metadata": {},
   "outputs": [
    {
     "data": {
      "text/plain": [
       "{'max_features': 'auto',\n",
       " 'min_samples_leaf': 15,\n",
       " 'min_samples_split': 2,\n",
       " 'n_estimators': 40}"
      ]
     },
     "execution_count": 157,
     "metadata": {},
     "output_type": "execute_result"
    }
   ],
   "source": [
    "gbr_model_gs.best_params_"
   ]
  },
  {
   "cell_type": "code",
   "execution_count": 159,
   "metadata": {},
   "outputs": [],
   "source": [
    "models_2 = [\n",
    "    ['RandomForestRegressor:', rfr_model_gs], \n",
    "    ['GradientBoostingRegressor', gbr_model_gs]\n",
    "]"
   ]
  },
  {
   "cell_type": "code",
   "execution_count": 168,
   "metadata": {},
   "outputs": [],
   "source": [
    "#Make a list to save the last pack of results\n",
    "last_score = []\n",
    "\n",
    "#Score\n",
    "for name, model in models_2:\n",
    "    model_pack_2 = {}\n",
    "    model_pack_2['Name'] = name\n",
    "    model_pack_2['Train R2 score'] = r2_score(y_train, model.predict(x_train))\n",
    "    model_pack_2['Test R2 score'] = r2_score(y_test, model.predict(x_test))\n",
    "    model_pack_2['Test MAE'] = mean_absolute_error(y_test, model.predict(x_test))\n",
    "    model_pack_2['Test RMSE'] = np.sqrt(mean_squared_error(y_test, model.predict(x_test)))\n",
    "    last_score.append(model_pack_2)"
   ]
  },
  {
   "cell_type": "code",
   "execution_count": 169,
   "metadata": {},
   "outputs": [
    {
     "data": {
      "text/plain": [
       "[{'Name': 'RandomForestRegressor:',\n",
       "  'Train R2 score': 0.9724555141919546,\n",
       "  'Test R2 score': 0.8287032709266615,\n",
       "  'Test MAE': 1.266094064056504,\n",
       "  'Test RMSE': 1.8891330459224591},\n",
       " {'Name': 'GradientBoostingRegressor',\n",
       "  'Train R2 score': 0.9411781490816816,\n",
       "  'Test R2 score': 0.8268021858183131,\n",
       "  'Test MAE': 1.2331572039528913,\n",
       "  'Test RMSE': 1.8995871074482296}]"
      ]
     },
     "execution_count": 169,
     "metadata": {},
     "output_type": "execute_result"
    }
   ],
   "source": [
    "last_score"
   ]
  },
  {
   "cell_type": "code",
   "execution_count": 170,
   "metadata": {},
   "outputs": [
    {
     "data": {
      "text/html": [
       "<div>\n",
       "<style scoped>\n",
       "    .dataframe tbody tr th:only-of-type {\n",
       "        vertical-align: middle;\n",
       "    }\n",
       "\n",
       "    .dataframe tbody tr th {\n",
       "        vertical-align: top;\n",
       "    }\n",
       "\n",
       "    .dataframe thead th {\n",
       "        text-align: right;\n",
       "    }\n",
       "</style>\n",
       "<table border=\"1\" class=\"dataframe\">\n",
       "  <thead>\n",
       "    <tr style=\"text-align: right;\">\n",
       "      <th></th>\n",
       "      <th>Name</th>\n",
       "      <th>Train R2 score</th>\n",
       "      <th>Test R2 score</th>\n",
       "      <th>Test MAE</th>\n",
       "      <th>Test RMSE</th>\n",
       "    </tr>\n",
       "  </thead>\n",
       "  <tbody>\n",
       "    <tr>\n",
       "      <th>0</th>\n",
       "      <td>RandomForestRegressor:</td>\n",
       "      <td>0.972456</td>\n",
       "      <td>0.828703</td>\n",
       "      <td>1.266094</td>\n",
       "      <td>1.889133</td>\n",
       "    </tr>\n",
       "    <tr>\n",
       "      <th>1</th>\n",
       "      <td>GradientBoostingRegressor</td>\n",
       "      <td>0.941178</td>\n",
       "      <td>0.826802</td>\n",
       "      <td>1.233157</td>\n",
       "      <td>1.899587</td>\n",
       "    </tr>\n",
       "  </tbody>\n",
       "</table>\n",
       "</div>"
      ],
      "text/plain": [
       "                        Name  Train R2 score  Test R2 score  Test MAE  \\\n",
       "0     RandomForestRegressor:        0.972456       0.828703  1.266094   \n",
       "1  GradientBoostingRegressor        0.941178       0.826802  1.233157   \n",
       "\n",
       "   Test RMSE  \n",
       "0   1.889133  \n",
       "1   1.899587  "
      ]
     },
     "execution_count": 170,
     "metadata": {},
     "output_type": "execute_result"
    }
   ],
   "source": [
    "df_last_score = pd.DataFrame(last_score)\n",
    "df_last_score"
   ]
  },
  {
   "cell_type": "code",
   "execution_count": 171,
   "metadata": {},
   "outputs": [
    {
     "data": {
      "image/png": "[encoded data removed]",
      "text/plain": [
       "<Figure size 720x576 with 1 Axes>"
      ]
     },
     "metadata": {
      "needs_background": "light"
     },
     "output_type": "display_data"
    }
   ],
   "source": [
    "fig, ax = plt.subplots(figsize= (10,8))\n",
    "df_last_score.plot.bar(x='Name', y=['Test R2 score', 'Test MAE', 'Test RMSE'], ax=ax)\n",
    "ax.set(title='First score', ylabel='Score')\n",
    "ax.axhline(df_last_score['Test R2 score'].max(), linestyle='--', c='red')\n",
    "ax.axhline(df_last_score['Test RMSE'].min(), linestyle='--', c='deepskyblue');"
   ]
  },
  {
   "cell_type": "code",
   "execution_count": 9,
   "metadata": {},
   "outputs": [
    {
     "data": {
      "text/plain": [
       "RandomForestRegressor(max_depth=10, max_features=0.5, min_samples_split=6,\n",
       "                      n_estimators=90, random_state=5)"
      ]
     },
     "execution_count": 9,
     "metadata": {},
     "output_type": "execute_result"
    }
   ],
   "source": [
    "rfr_model_final = RandomForestRegressor(max_depth = 10,\n",
    "                                        max_features = 0.5,\n",
    "                                        min_samples_leaf = 1,\n",
    "                                        min_samples_split = 6,\n",
    "                                        n_estimators = 90,\n",
    "                                        random_state=5)\n",
    "rfr_model_final.fit(x_train, y_train)"
   ]
  },
  {
   "cell_type": "code",
   "execution_count": 10,
   "metadata": {},
   "outputs": [
    {
     "data": {
      "text/plain": [
       "GradientBoostingRegressor(max_features='auto', min_samples_leaf=15,\n",
       "                          n_estimators=40, random_state=5)"
      ]
     },
     "execution_count": 10,
     "metadata": {},
     "output_type": "execute_result"
    }
   ],
   "source": [
    "gbr_model_final = GradientBoostingRegressor(max_features = 'auto',\n",
    "                                            min_samples_leaf = 15,\n",
    "                                            min_samples_split = 2,\n",
    "                                            n_estimators = 40,\n",
    "                                            random_state=5)\n",
    "gbr_model_final.fit(x_train, y_train)"
   ]
  },
  {
   "cell_type": "code",
   "execution_count": 177,
   "metadata": {},
   "outputs": [
    {
     "data": {
      "text/plain": [
       "array([1.52610270e-03, 9.55430712e-04, 1.41517649e-02, 5.50641124e-04,\n",
       "       1.52436765e-03, 1.52522637e-03, 7.70854484e-03, 3.21419250e-03,\n",
       "       6.14709220e-03, 4.05718902e-03, 5.01599112e-03, 1.54425861e-03,\n",
       "       1.96531803e-03, 6.64006149e-03, 3.05258136e-02, 3.92917331e-03,\n",
       "       1.04033485e-03, 1.57265283e-03, 1.72850682e-03, 1.45443758e-03,\n",
       "       1.66829356e-03, 1.97890688e-03, 3.42952566e-03, 4.67971053e-03,\n",
       "       3.50329910e-03, 4.18838929e-03, 2.88121093e-03, 6.42234985e-03,\n",
       "       6.64872385e-03, 9.76391066e-02, 2.10618576e-01, 5.59564808e-01])"
      ]
     },
     "execution_count": 177,
     "metadata": {},
     "output_type": "execute_result"
    }
   ],
   "source": [
    "rfr_model_final.feature_importances_"
   ]
  },
  {
   "cell_type": "code",
   "execution_count": 181,
   "metadata": {},
   "outputs": [
    {
     "data": {
      "text/plain": [
       "Index(['school', 'sex', 'age', 'address', 'famsize', 'Pstatus', 'Medu', 'Fedu',\n",
       "       'Mjob', 'Fjob', 'reason', 'guardian', 'traveltime', 'studytime',\n",
       "       'failures', 'schoolsup', 'famsup', 'paid', 'activities', 'nursery',\n",
       "       'higher', 'internet', 'romantic', 'famrel', 'freetime', 'goout', 'Dalc',\n",
       "       'Walc', 'health', 'absences', 'G1', 'G2'],\n",
       "      dtype='object')"
      ]
     },
     "execution_count": 181,
     "metadata": {},
     "output_type": "execute_result"
    }
   ],
   "source": [
    "x.columns"
   ]
  },
  {
   "cell_type": "code",
   "execution_count": 183,
   "metadata": {},
   "outputs": [
    {
     "data": {
      "text/html": [
       "<div>\n",
       "<style scoped>\n",
       "    .dataframe tbody tr th:only-of-type {\n",
       "        vertical-align: middle;\n",
       "    }\n",
       "\n",
       "    .dataframe tbody tr th {\n",
       "        vertical-align: top;\n",
       "    }\n",
       "\n",
       "    .dataframe thead th {\n",
       "        text-align: right;\n",
       "    }\n",
       "</style>\n",
       "<table border=\"1\" class=\"dataframe\">\n",
       "  <thead>\n",
       "    <tr style=\"text-align: right;\">\n",
       "      <th></th>\n",
       "      <th>Features_importance</th>\n",
       "      <th>Features</th>\n",
       "    </tr>\n",
       "  </thead>\n",
       "  <tbody>\n",
       "    <tr>\n",
       "      <th>0</th>\n",
       "      <td>0.001526</td>\n",
       "      <td>school</td>\n",
       "    </tr>\n",
       "    <tr>\n",
       "      <th>1</th>\n",
       "      <td>0.000955</td>\n",
       "      <td>sex</td>\n",
       "    </tr>\n",
       "    <tr>\n",
       "      <th>2</th>\n",
       "      <td>0.014152</td>\n",
       "      <td>age</td>\n",
       "    </tr>\n",
       "    <tr>\n",
       "      <th>3</th>\n",
       "      <td>0.000551</td>\n",
       "      <td>address</td>\n",
       "    </tr>\n",
       "    <tr>\n",
       "      <th>4</th>\n",
       "      <td>0.001524</td>\n",
       "      <td>famsize</td>\n",
       "    </tr>\n",
       "    <tr>\n",
       "      <th>5</th>\n",
       "      <td>0.001525</td>\n",
       "      <td>Pstatus</td>\n",
       "    </tr>\n",
       "    <tr>\n",
       "      <th>6</th>\n",
       "      <td>0.007709</td>\n",
       "      <td>Medu</td>\n",
       "    </tr>\n",
       "    <tr>\n",
       "      <th>7</th>\n",
       "      <td>0.003214</td>\n",
       "      <td>Fedu</td>\n",
       "    </tr>\n",
       "    <tr>\n",
       "      <th>8</th>\n",
       "      <td>0.006147</td>\n",
       "      <td>Mjob</td>\n",
       "    </tr>\n",
       "    <tr>\n",
       "      <th>9</th>\n",
       "      <td>0.004057</td>\n",
       "      <td>Fjob</td>\n",
       "    </tr>\n",
       "    <tr>\n",
       "      <th>10</th>\n",
       "      <td>0.005016</td>\n",
       "      <td>reason</td>\n",
       "    </tr>\n",
       "    <tr>\n",
       "      <th>11</th>\n",
       "      <td>0.001544</td>\n",
       "      <td>guardian</td>\n",
       "    </tr>\n",
       "    <tr>\n",
       "      <th>12</th>\n",
       "      <td>0.001965</td>\n",
       "      <td>traveltime</td>\n",
       "    </tr>\n",
       "    <tr>\n",
       "      <th>13</th>\n",
       "      <td>0.006640</td>\n",
       "      <td>studytime</td>\n",
       "    </tr>\n",
       "    <tr>\n",
       "      <th>14</th>\n",
       "      <td>0.030526</td>\n",
       "      <td>failures</td>\n",
       "    </tr>\n",
       "    <tr>\n",
       "      <th>15</th>\n",
       "      <td>0.003929</td>\n",
       "      <td>schoolsup</td>\n",
       "    </tr>\n",
       "    <tr>\n",
       "      <th>16</th>\n",
       "      <td>0.001040</td>\n",
       "      <td>famsup</td>\n",
       "    </tr>\n",
       "    <tr>\n",
       "      <th>17</th>\n",
       "      <td>0.001573</td>\n",
       "      <td>paid</td>\n",
       "    </tr>\n",
       "    <tr>\n",
       "      <th>18</th>\n",
       "      <td>0.001729</td>\n",
       "      <td>activities</td>\n",
       "    </tr>\n",
       "    <tr>\n",
       "      <th>19</th>\n",
       "      <td>0.001454</td>\n",
       "      <td>nursery</td>\n",
       "    </tr>\n",
       "    <tr>\n",
       "      <th>20</th>\n",
       "      <td>0.001668</td>\n",
       "      <td>higher</td>\n",
       "    </tr>\n",
       "    <tr>\n",
       "      <th>21</th>\n",
       "      <td>0.001979</td>\n",
       "      <td>internet</td>\n",
       "    </tr>\n",
       "    <tr>\n",
       "      <th>22</th>\n",
       "      <td>0.003430</td>\n",
       "      <td>romantic</td>\n",
       "    </tr>\n",
       "    <tr>\n",
       "      <th>23</th>\n",
       "      <td>0.004680</td>\n",
       "      <td>famrel</td>\n",
       "    </tr>\n",
       "    <tr>\n",
       "      <th>24</th>\n",
       "      <td>0.003503</td>\n",
       "      <td>freetime</td>\n",
       "    </tr>\n",
       "    <tr>\n",
       "      <th>25</th>\n",
       "      <td>0.004188</td>\n",
       "      <td>goout</td>\n",
       "    </tr>\n",
       "    <tr>\n",
       "      <th>26</th>\n",
       "      <td>0.002881</td>\n",
       "      <td>Dalc</td>\n",
       "    </tr>\n",
       "    <tr>\n",
       "      <th>27</th>\n",
       "      <td>0.006422</td>\n",
       "      <td>Walc</td>\n",
       "    </tr>\n",
       "    <tr>\n",
       "      <th>28</th>\n",
       "      <td>0.006649</td>\n",
       "      <td>health</td>\n",
       "    </tr>\n",
       "    <tr>\n",
       "      <th>29</th>\n",
       "      <td>0.097639</td>\n",
       "      <td>absences</td>\n",
       "    </tr>\n",
       "    <tr>\n",
       "      <th>30</th>\n",
       "      <td>0.210619</td>\n",
       "      <td>G1</td>\n",
       "    </tr>\n",
       "    <tr>\n",
       "      <th>31</th>\n",
       "      <td>0.559565</td>\n",
       "      <td>G2</td>\n",
       "    </tr>\n",
       "  </tbody>\n",
       "</table>\n",
       "</div>"
      ],
      "text/plain": [
       "    Features_importance    Features\n",
       "0              0.001526      school\n",
       "1              0.000955         sex\n",
       "2              0.014152         age\n",
       "3              0.000551     address\n",
       "4              0.001524     famsize\n",
       "5              0.001525     Pstatus\n",
       "6              0.007709        Medu\n",
       "7              0.003214        Fedu\n",
       "8              0.006147        Mjob\n",
       "9              0.004057        Fjob\n",
       "10             0.005016      reason\n",
       "11             0.001544    guardian\n",
       "12             0.001965  traveltime\n",
       "13             0.006640   studytime\n",
       "14             0.030526    failures\n",
       "15             0.003929   schoolsup\n",
       "16             0.001040      famsup\n",
       "17             0.001573        paid\n",
       "18             0.001729  activities\n",
       "19             0.001454     nursery\n",
       "20             0.001668      higher\n",
       "21             0.001979    internet\n",
       "22             0.003430    romantic\n",
       "23             0.004680      famrel\n",
       "24             0.003503    freetime\n",
       "25             0.004188       goout\n",
       "26             0.002881        Dalc\n",
       "27             0.006422        Walc\n",
       "28             0.006649      health\n",
       "29             0.097639    absences\n",
       "30             0.210619          G1\n",
       "31             0.559565          G2"
      ]
     },
     "execution_count": 183,
     "metadata": {},
     "output_type": "execute_result"
    }
   ],
   "source": [
    "feature_importance = pd.DataFrame({'Features_importance':rfr_model_final.feature_importances_,\n",
    "                                   'Features':x.columns})\n",
    "feature_importance"
   ]
  },
  {
   "cell_type": "code",
   "execution_count": 190,
   "metadata": {},
   "outputs": [
    {
     "data": {
      "image/png": "[encoded data removed]",
      "text/plain": [
       "<Figure size 576x1080 with 1 Axes>"
      ]
     },
     "metadata": {
      "needs_background": "light"
     },
     "output_type": "display_data"
    }
   ],
   "source": [
    "feature_importance.plot.barh(x='Features', y='Features_importance', figsize=(8,15));"
   ]
  },
  {
   "cell_type": "code",
   "execution_count": 11,
   "metadata": {},
   "outputs": [
    {
     "data": {
      "image/png": "[encoded data removed]",
      "text/plain": [
       "<Figure size 576x1080 with 1 Axes>"
      ]
     },
     "metadata": {
      "needs_background": "light"
     },
     "output_type": "display_data"
    }
   ],
   "source": [
    "feature_importance2 = pd.DataFrame({'Features_importance':gbr_model_final.feature_importances_,\n",
    "                                   'Features':x.columns})\n",
    "\n",
    "feature_importance2.plot.barh(x='Features', y='Features_importance', figsize=(8,15));"
   ]
  },
  {
   "cell_type": "code",
   "execution_count": 12,
   "metadata": {},
   "outputs": [],
   "source": [
    "y_pred_rfr = rfr_model_final.predict(x_test)\n",
    "y_pred_gbr = gbr_model_final.predict(x_test)"
   ]
  },
  {
   "cell_type": "code",
   "execution_count": 19,
   "metadata": {},
   "outputs": [
    {
     "data": {
      "image/png": "[encoded data removed]",
      "text/plain": [
       "<Figure size 1080x360 with 2 Axes>"
      ]
     },
     "metadata": {
      "needs_background": "light"
     },
     "output_type": "display_data"
    }
   ],
   "source": [
    "fig, (ax1, ax2) = plt.subplots(nrows=1, ncols=2, figsize=(15,5))\n",
    "ax1.scatter(y_test, y_pred_rfr)\n",
    "ax1.set(title='Random Forest Regressor Model', xlabel='Truth', ylabel='Predict')\n",
    "ax2.scatter(y_test, y_pred_gbr)\n",
    "ax2.set(title='Gradient Boosting Regressor Model', xlabel='Truth', ylabel='Predict');"
   ]
  },
  {
   "cell_type": "markdown",
   "metadata": {},
   "source": [
    "**Save the finals models**"
   ]
  },
  {
   "cell_type": "code",
   "execution_count": 20,
   "metadata": {},
   "outputs": [],
   "source": [
    "from joblib import dump, load"
   ]
  },
  {
   "cell_type": "code",
   "execution_count": 22,
   "metadata": {},
   "outputs": [
    {
     "data": {
      "text/plain": [
       "['.\\\\Models\\\\GradientBoostingRegressor.joblib']"
      ]
     },
     "execution_count": 22,
     "metadata": {},
     "output_type": "execute_result"
    }
   ],
   "source": [
    "dump(rfr_model_final, filename='.\\Models\\RandomForestRegressor.joblib')\n",
    "dump(gbr_model_final, filename='.\\Models\\GradientBoostingRegressor.joblib')"
   ]
  },
  {
   "cell_type": "markdown",
   "metadata": {},
   "source": [
    "# 6.Experiments"
   ]
  },
  {
   "cell_type": "markdown",
   "metadata": {},
   "source": [
    "* We could try more hyperparameters evaluations\n",
    "* Improve the other models\n",
    "* Collect more data\n",
    "* Try another estimator for the data like XGBoost"
   ]
  },
  {
   "cell_type": "markdown",
   "metadata": {},
   "source": [
    "# Conclusions"
   ]
  },
  {
   "cell_type": "markdown",
   "metadata": {},
   "source": [
    "**We didn't hit the 85% proposed above, but we hit at least the 82% with an error margin of +- 1.5. In the other hand, the collected data are not very relevant to predict the final grade.**\n",
    "\n",
    "***I recommend follow the hints in the evaluations step, for hit a more accuracy metric.***"
   ]
  },
  {
   "cell_type": "code",
   "execution_count": null,
   "metadata": {},
   "outputs": [],
   "source": []
  }
 ],
 "metadata": {
  "kernelspec": {
   "display_name": "Python 3",
   "language": "python",
   "name": "python3"
  },
  "language_info": {
   "codemirror_mode": {
    "name": "ipython",
    "version": 3
   },
   "file_extension": ".py",
   "mimetype": "text/x-python",
   "name": "python",
   "nbconvert_exporter": "python",
   "pygments_lexer": "ipython3",
   "version": "3.8.5"
  }
 },
 "nbformat": 4,
 "nbformat_minor": 4
}
